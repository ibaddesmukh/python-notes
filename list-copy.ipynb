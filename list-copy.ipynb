{
 "cells": [
  {
   "cell_type": "code",
   "execution_count": 1,
   "id": "7d232cd5-60ce-48df-80ad-20f385777e7e",
   "metadata": {
    "tags": []
   },
   "outputs": [
    {
     "name": "stdout",
     "output_type": "stream",
     "text": [
      "[1, 2, 3]\n",
      "[1, 2, 3]\n",
      "[100, 2, 3]\n",
      "[100, 2, 3]\n"
     ]
    }
   ],
   "source": [
    "# copy a list using the assignment operator\n",
    "orig_list=[1, 2, 3]\n",
    "copy_list=orig_list\n",
    "\n",
    "print(orig_list)\n",
    "print(copy_list)\n",
    "\n",
    "# modify the original list 'a'\n",
    "orig_list[0]=100\n",
    "print(orig_list)\n",
    "print(copy_list)"
   ]
  },
  {
   "cell_type": "code",
   "execution_count": 2,
   "id": "be7f85de-c4ca-4376-9ce8-29d8b9dea94f",
   "metadata": {
    "tags": []
   },
   "outputs": [
    {
     "name": "stdout",
     "output_type": "stream",
     "text": [
      "Original List: [1, 2, ['a', 'b', 'c'], 3]\n",
      "Copied List: [1, 2, ['a', 'b', 'c'], 3]\n",
      "Original List: [1, 2, ['a', 'b', 'c'], 3, 'QMUL']\n",
      "Copied List: [1, 2, ['a', 'b', 'c'], 3]\n",
      "Original List: [1, 2, ['APPLE', 'b', 'c'], 3, 'QMUL']\n",
      "Copied List: [1, 2, ['APPLE', 'b', 'c'], 3]\n"
     ]
    }
   ],
   "source": [
    "# shallow copy using list slicing\n",
    "orig_list=[1, 2, ['a', 'b', 'c'], 3]\n",
    "\n",
    "copy_list=orig_list[:]\n",
    "\n",
    "print('Original List:', orig_list)\n",
    "print('Copied List:', copy_list)\n",
    "\n",
    "# append an item to orig_list\n",
    "orig_list.append('QMUL')\n",
    "\n",
    "print('Original List:', orig_list)\n",
    "print('Copied List:', copy_list)\n",
    "\n",
    "# changing an item in the nested list of orig_list, therefore, modifications to nested elements will be reflected in both lists\n",
    "orig_list[2][0]='APPLE'\n",
    "print('Original List:', orig_list)\n",
    "print('Copied List:', copy_list)"
   ]
  },
  {
   "cell_type": "code",
   "execution_count": 3,
   "id": "c7942fea-59cc-47b5-ba7d-dfda0c3b67bf",
   "metadata": {
    "tags": []
   },
   "outputs": [
    {
     "name": "stdout",
     "output_type": "stream",
     "text": [
      "Original List: [1, 2, ['APPLE', 'b', 'c'], 3]\n",
      "Copied List: [1, 2, ['a', 'b', 'c'], 3]\n"
     ]
    }
   ],
   "source": [
    "# deep copy using copy.deepcopy() function\n",
    "import copy\n",
    "\n",
    "orig_list=[1, 2, ['a', 'b', 'c'], 3]\n",
    "copy_list = copy.deepcopy(orig_list)\n",
    "\n",
    "orig_list[2][0]='APPLE'\n",
    "\n",
    "print('Original List:', orig_list)\n",
    "print('Copied List:', copy_list)"
   ]
  },
  {
   "cell_type": "code",
   "execution_count": null,
   "id": "9e7792f5-09b9-4987-ab29-a05d7a686d83",
   "metadata": {},
   "outputs": [],
   "source": []
  }
 ],
 "metadata": {
  "kernelspec": {
   "display_name": "Python 3 (ipykernel)",
   "language": "python",
   "name": "python3"
  },
  "language_info": {
   "codemirror_mode": {
    "name": "ipython",
    "version": 3
   },
   "file_extension": ".py",
   "mimetype": "text/x-python",
   "name": "python",
   "nbconvert_exporter": "python",
   "pygments_lexer": "ipython3",
   "version": "3.10.13"
  }
 },
 "nbformat": 4,
 "nbformat_minor": 5
}
